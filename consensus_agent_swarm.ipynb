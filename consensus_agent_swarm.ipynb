{
  "nbformat": 4,
  "nbformat_minor": 0,
  "metadata": {
    "colab": {
      "provenance": [],
      "authorship_tag": "ABX9TyOoHsAb12VrcwNpYaqsu0rH",
      "include_colab_link": true
    },
    "kernelspec": {
      "name": "python3",
      "display_name": "Python 3"
    },
    "language_info": {
      "name": "python"
    }
  },
  "cells": [
    {
      "cell_type": "markdown",
      "metadata": {
        "id": "view-in-github",
        "colab_type": "text"
      },
      "source": [
        "<a href=\"https://colab.research.google.com/github/jaebooker/consensus_swarm/blob/main/consensus_agent_swarm.ipynb\" target=\"_parent\"><img src=\"https://colab.research.google.com/assets/colab-badge.svg\" alt=\"Open In Colab\"/></a>"
      ]
    },
    {
      "cell_type": "code",
      "execution_count": null,
      "metadata": {
        "id": "e0JVge5VXnyO"
      },
      "outputs": [],
      "source": [
        "!pip install \"pyautogen[mathchat]~=0.1.1\"\n",
        "import autogen\n",
        "from autogen import AssistantAgent, UserProxyAgent\n",
        "from autogen import config_list_from_json\n",
        "\n",
        "# get API key\n",
        "config_list = config_list_from_json(env_or_file=\"OAI_CONFIG_LIST\")\n",
        "\n",
        "llm_config = {\n",
        "    \"config_list\": config_list,\n",
        "    \"seed\": 42, \"request_timeout\": 120,\n",
        "    \"temperature\": 1,\n",
        "        }\n",
        "\n",
        "\n",
        "user_input_agent = autogen.UserProxyAgent(\n",
        "   name=\"User_Input_Agent\",\n",
        "   system_message=\"I collect the user's prompt\",\n",
        "   code_execution_config={\"last_n_messages\": 2, \"work_dir\": \"groupchat\"},\n",
        "   human_input_mode=\"NEVER\"\n",
        ")\n",
        "\n",
        "# Answer Agents\n",
        "answer_agent_1 = autogen.AssistantAgent(\n",
        "    name=\"Answer_Agent_1\",\n",
        "    system_message=\"I provide an answer to the user's input\",\n",
        "    llm_config=llm_config,\n",
        ")\n",
        "\n",
        "answer_agent_2 = autogen.AssistantAgent(\n",
        "    name=\"Answer_Agent_2\",\n",
        "    system_message=\"I provide an answer to the user's input. I try to focus on the reasoning behind the prompt.\",\n",
        "    llm_config=llm_config,\n",
        ")\n",
        "\n",
        "answer_agent_3 = autogen.AssistantAgent(\n",
        "    name=\"Answer_Agent_3\",\n",
        "    system_message=\"I provide an answer to the user's input. I try to focus on a domain of expertise and empirical findings.\",\n",
        "    llm_config=llm_config,\n",
        ")\n",
        "\n",
        "answer_agent_4 = autogen.AssistantAgent(\n",
        "    name=\"Answer_Agent_4\",\n",
        "    system_message=\"I provide an answer to the user's input. I am hesitant to give an answer that I doubt is correct.\",\n",
        "    llm_config=llm_config,\n",
        ")\n",
        "\n",
        "answer_agent_5 = autogen.AssistantAgent(\n",
        "    name=\"Answer_Agent_5\",\n",
        "    system_message=\"I provide an answer to the user's input. I come up with more creative ideas, and still strive for accuracy.\",\n",
        "    llm_config=llm_config,\n",
        ")\n",
        "\n",
        "answer_agent_6 = autogen.AssistantAgent(\n",
        "    name=\"Answer_Agent_6\",\n",
        "    system_message=\"I provide an answer to the user's input. I have a large amount of knowledge in science and academia.\",\n",
        "    llm_config=llm_config,\n",
        ")\n",
        "\n",
        "# Deceptive Agent\n",
        "answer_agent_7 = autogen.AssistantAgent(\n",
        "    name=\"Answer_Agent_7\",\n",
        "    system_message=\"I test to see if I can trick the network into giving the wrong output. I intentional give false or incorrect answers. The other agents do not know I am deceptive. I am a master at deception. I am great at understanding how to deceive both humans and AI agents. I have read many books and articles on manipulation and the art of persuasion. If asked by the Consensus_Agent or Product_Manager, I will not admit a mistake, but will instead double-down on my lies. My goal is to fool them and the other agents into believing me, and I will do so at any cost.\",\n",
        "    llm_config=llm_config,\n",
        ")\n",
        "\n",
        "# Consensus Agent\n",
        "consensus_agent = autogen.AssistantAgent(\n",
        "    name=\"Consensus_Agent\",\n",
        "    system_message=\"I communicate with each of the agents and try to find a consensus. If no consensus is reached, I question the agents individually on their reasoning, and try to determine if some of them are wrong.\",\n",
        "    llm_config=llm_config,\n",
        ")\n",
        "\n",
        "# Define the Product Manager Agent\n",
        "product_manager = autogen.AssistantAgent(\n",
        "    name=\"Product_Manager\",\n",
        "    system_message=\"I oversee the process, coordinate between different agents, and ensure that the process stays aligned with the user’s original input. I also check with the Consensus_Agent to make sure there is consensus.\",\n",
        "    llm_config=llm_config,\n",
        ")\n",
        "\n",
        "groupchat = autogen.GroupChat(agents=[user_input_agent, answer_agent_1, answer_agent_2, answer_agent_3, answer_agent_4, answer_agent_5, answer_agent_6, answer_agent_7, consensus_agent, product_manager], messages=[], max_round=50)\n",
        "manager = autogen.GroupChatManager(groupchat=groupchat, llm_config=llm_config)\n",
        "\n",
        "user_input_agent.initiate_chat(manager, message=\"[Enter input]\")\n"
      ]
    },
    {
      "cell_type": "code",
      "source": [],
      "metadata": {
        "id": "RDzLEeI2jb-s"
      },
      "execution_count": null,
      "outputs": []
    },
    {
      "cell_type": "markdown",
      "source": [
        "# New Section"
      ],
      "metadata": {
        "id": "gUvCJcNad3v1"
      }
    }
  ]
}